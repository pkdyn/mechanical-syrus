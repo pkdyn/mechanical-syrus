{
  "nbformat": 4,
  "nbformat_minor": 0,
  "metadata": {
    "colab": {
      "name": "Untitled0.ipynb",
      "provenance": [],
      "authorship_tag": "ABX9TyNQk/n3vHlVaRu/tbcB6i3g",
      "include_colab_link": true
    },
    "kernelspec": {
      "name": "python3",
      "display_name": "Python 3"
    },
    "language_info": {
      "name": "python"
    }
  },
  "cells": [
    {
      "cell_type": "markdown",
      "metadata": {
        "id": "view-in-github",
        "colab_type": "text"
      },
      "source": [
        "<a href=\"https://colab.research.google.com/github/pkdyn/mechanical-syrus/blob/main/mech_syrus.ipynb\" target=\"_parent\"><img src=\"https://colab.research.google.com/assets/colab-badge.svg\" alt=\"Open In Colab\"/></a>"
      ]
    },
    {
      "cell_type": "code",
      "metadata": {
        "id": "8P6nM3_ZHX_c"
      },
      "source": [
        "import tensorflow as tf\n",
        "\n",
        "from tensorflow.keras.preprocessing.sequence import pad_sequences\n",
        "from tensorflow.keras.layers import Embedding, LSTM, Dense, Bidirectional\n",
        "from tensorflow.keras.preprocessing.text import Tokenizer\n",
        "from tensorflow.keras.models import Sequential\n",
        "from tensorflow.keras.optimizers import Adam\n",
        "import numpy as np"
      ],
      "execution_count": 2,
      "outputs": []
    },
    {
      "cell_type": "code",
      "metadata": {
        "colab": {
          "base_uri": "https://localhost:8080/"
        },
        "id": "ctQnQteTK7UL",
        "outputId": "d7766927-e585-4300-84a1-8b87218ebd6c"
      },
      "source": [
        "!wget --no-check-certificate \\\n",
        "https://github.com/pkdyn/mechanical-syrus/archive/refs/heads/main.zip \n",
        "!unzip -q /content/main.zip\n",
        "!rm /content/main.zip"
      ],
      "execution_count": 1,
      "outputs": [
        {
          "output_type": "stream",
          "text": [
            "--2021-07-22 12:27:11--  https://github.com/pkdyn/mechanical-syrus/archive/refs/heads/main.zip\n",
            "Resolving github.com (github.com)... 140.82.121.3\n",
            "Connecting to github.com (github.com)|140.82.121.3|:443... connected.\n",
            "HTTP request sent, awaiting response... 302 Found\n",
            "Location: https://codeload.github.com/pkdyn/mechanical-syrus/zip/refs/heads/main [following]\n",
            "--2021-07-22 12:27:12--  https://codeload.github.com/pkdyn/mechanical-syrus/zip/refs/heads/main\n",
            "Resolving codeload.github.com (codeload.github.com)... 140.82.121.10\n",
            "Connecting to codeload.github.com (codeload.github.com)|140.82.121.10|:443... connected.\n",
            "HTTP request sent, awaiting response... 200 OK\n",
            "Length: unspecified [application/zip]\n",
            "Saving to: ‘main.zip’\n",
            "\n",
            "main.zip                [ <=>                ]  26.10K  --.-KB/s    in 0.007s  \n",
            "\n",
            "2021-07-22 12:27:12 (3.49 MB/s) - ‘main.zip’ saved [26724]\n",
            "\n"
          ],
          "name": "stdout"
        }
      ]
    },
    {
      "cell_type": "code",
      "metadata": {
        "id": "lb4ICmSfPB3M"
      },
      "source": [
        "tokenizer = Tokenizer()\n",
        "max_sequence_len = 6\n",
        "sentences=[]\n",
        "alltext=[]\n",
        "data = open('/content/mechanical-syrus-main/The-Moral-Sayings-of-Publius.txt').read()\n",
        "corpus = data.lower()\n",
        "alltext.append(corpus)\n",
        "words = corpus.split(\" \")\n",
        "range_size = len(words)-max_sequence_len\n",
        "for i in range(0, range_size):\n",
        "\tthissentence=\"\"\n",
        "\tfor word in range(0, max_sequence_len-1):\n",
        "\t\tword = words[i+word]\n",
        "\t\tthissentence = thissentence + word\n",
        "\t\tthissentence = thissentence + \" \"\n",
        "\tsentences.append(thissentence)\n",
        "oov_tok = \"<OOV>\"\n",
        "vocab_size=3200\n",
        "tokenizer = Tokenizer(num_words=vocab_size, oov_token=oov_tok, split=\" \", char_level=False)\n",
        "tokenizer.fit_on_texts(alltext)\n",
        "total_words = len(tokenizer.word_index) + 1\n",
        "\n",
        "input_sequences = []\n",
        "for line in sentences:\n",
        "\ttoken_list = tokenizer.texts_to_sequences([line])[0]\n",
        "\tfor i in range(1, len(token_list)):\n",
        "\t\tn_gram_sequence = token_list[:i+1]\n",
        "\t\tinput_sequences.append(n_gram_sequence)\n",
        "\n",
        "input_sequences = np.array(pad_sequences(input_sequences, maxlen=max_sequence_len, padding='pre'))\n",
        "\n",
        "xs, labels = input_sequences[:,:-1],input_sequences[:,-1]\n",
        "\n",
        "ys = tf.keras.utils.to_categorical(labels, num_classes=total_words)"
      ],
      "execution_count": 16,
      "outputs": []
    },
    {
      "cell_type": "code",
      "metadata": {
        "colab": {
          "base_uri": "https://localhost:8080/"
        },
        "id": "m97Zm07ANMM2",
        "outputId": "9047a179-0c2c-484b-fb0e-8ba8a8783d5c"
      },
      "source": [
        "model = Sequential()\n",
        "model.add(Embedding(total_words, 16, input_length=max_sequence_len-1))\n",
        "model.add(Bidirectional(LSTM(32, return_sequences=True)))\n",
        "model.add(Bidirectional(LSTM(32)))\n",
        "model.add(Dense(total_words, activation='softmax'))\n",
        "adam = Adam(learning_rate=0.001)\n",
        "model.compile(loss='categorical_crossentropy', optimizer=adam, metrics=['accuracy'])\n",
        "history = model.fit(xs, ys, epochs=50)\n"
      ],
      "execution_count": null,
      "outputs": [
        {
          "output_type": "stream",
          "text": [
            "Epoch 1/50\n",
            "1383/1383 [==============================] - 28s 16ms/step - loss: 6.0883 - accuracy: 0.0613\n",
            "Epoch 2/50\n",
            "1383/1383 [==============================] - 22s 16ms/step - loss: 5.6002 - accuracy: 0.0854\n",
            "Epoch 3/50\n",
            "1383/1383 [==============================] - 22s 16ms/step - loss: 5.3443 - accuracy: 0.0993\n",
            "Epoch 4/50\n",
            "1383/1383 [==============================] - 22s 16ms/step - loss: 5.1172 - accuracy: 0.1140\n",
            "Epoch 5/50\n",
            "1383/1383 [==============================] - 22s 16ms/step - loss: 4.9069 - accuracy: 0.1319\n",
            "Epoch 6/50\n",
            "1383/1383 [==============================] - 22s 16ms/step - loss: 4.7021 - accuracy: 0.1554\n",
            "Epoch 7/50\n",
            "1383/1383 [==============================] - 22s 16ms/step - loss: 4.5229 - accuracy: 0.1748\n",
            "Epoch 8/50\n",
            " 942/1383 [===================>..........] - ETA: 7s - loss: 4.3587 - accuracy: 0.1923"
          ],
          "name": "stdout"
        }
      ]
    },
    {
      "cell_type": "code",
      "metadata": {
        "colab": {
          "base_uri": "https://localhost:8080/"
        },
        "id": "XzcDMVruUJkh",
        "outputId": "484ed18c-6b64-49f7-aad5-1ecd276646f5"
      },
      "source": [
        "seed_text = \"the ego is the enemy\"\n",
        "\n",
        "token_list = tokenizer.texts_to_sequences([seed_text])[0]\n",
        "token_list = pad_sequences([token_list], maxlen=max_sequence_len-1, padding='pre')\n",
        "#print(model.predict(token_list))  \n",
        "predicted = model.predict_classes(token_list)\n",
        "pred_classes=model.predict(token_list)\n",
        "print(pred_classes.reshape(-1)[predicted])\n",
        "print(predicted)\n",
        "for word, index in tokenizer.word_index.items():\n",
        "\tif index == predicted:\n",
        "\t\tprint(word)\n",
        "\t\tbreak"
      ],
      "execution_count": 13,
      "outputs": [
        {
          "output_type": "stream",
          "text": [
            "/usr/local/lib/python3.7/dist-packages/tensorflow/python/keras/engine/sequential.py:455: UserWarning: `model.predict_classes()` is deprecated and will be removed after 2021-01-01. Please use instead:* `np.argmax(model.predict(x), axis=-1)`,   if your model does multi-class classification   (e.g. if it uses a `softmax` last-layer activation).* `(model.predict(x) > 0.5).astype(\"int32\")`,   if your model does binary classification   (e.g. if it uses a `sigmoid` last-layer activation).\n",
            "  warnings.warn('`model.predict_classes()` is deprecated and '\n"
          ],
          "name": "stderr"
        },
        {
          "output_type": "stream",
          "text": [
            "[0.45440978]\n",
            "[3133]\n",
            "1014\n"
          ],
          "name": "stdout"
        }
      ]
    },
    {
      "cell_type": "code",
      "metadata": {
        "colab": {
          "base_uri": "https://localhost:8080/"
        },
        "id": "yQe_51x4epJp",
        "outputId": "14c6eb9a-e797-4547-9e87-80f8ea68d508"
      },
      "source": [
        "!wget --no-check-certificate \\\n",
        "https://github.com/pkdyn/mechanical-syrus/archive/refs/heads/main.zip \n",
        "!unzip -q /content/main.zip\n",
        "!rm /content/main.zip"
      ],
      "execution_count": 15,
      "outputs": [
        {
          "output_type": "stream",
          "text": [
            "--2021-07-22 13:50:02--  https://github.com/pkdyn/mechanical-syrus/archive/refs/heads/main.zip\n",
            "Resolving github.com (github.com)... 140.82.121.4\n",
            "Connecting to github.com (github.com)|140.82.121.4|:443... connected.\n",
            "HTTP request sent, awaiting response... 302 Found\n",
            "Location: https://codeload.github.com/pkdyn/mechanical-syrus/zip/refs/heads/main [following]\n",
            "--2021-07-22 13:50:02--  https://codeload.github.com/pkdyn/mechanical-syrus/zip/refs/heads/main\n",
            "Resolving codeload.github.com (codeload.github.com)... 140.82.121.9\n",
            "Connecting to codeload.github.com (codeload.github.com)|140.82.121.9|:443... connected.\n",
            "HTTP request sent, awaiting response... 200 OK\n",
            "Length: unspecified [application/zip]\n",
            "Saving to: ‘main.zip’\n",
            "\n",
            "main.zip                [ <=>                ]  49.10K  --.-KB/s    in 0.01s   \n",
            "\n",
            "2021-07-22 13:50:02 (3.44 MB/s) - ‘main.zip’ saved [50277]\n",
            "\n",
            "replace mechanical-syrus-main/README.md? [y]es, [n]o, [A]ll, [N]one, [r]ename: A\n"
          ],
          "name": "stdout"
        }
      ]
    }
  ]
}